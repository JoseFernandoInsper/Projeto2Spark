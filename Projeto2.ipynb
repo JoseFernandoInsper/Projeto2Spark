{
 "cells": [
  {
   "cell_type": "code",
   "execution_count": 1,
   "metadata": {},
   "outputs": [],
   "source": [
    "import pyspark\n",
    "import math"
   ]
  },
  {
   "cell_type": "code",
   "execution_count": 2,
   "metadata": {},
   "outputs": [],
   "source": [
    "sc = pyspark.SparkContext(appName=\"jojo\")"
   ]
  },
  {
   "cell_type": "code",
   "execution_count": 3,
   "metadata": {},
   "outputs": [
    {
     "data": {
      "text/html": [
       "\n",
       "        <div>\n",
       "            <p><b>SparkContext</b></p>\n",
       "\n",
       "            <p><a href=\"http://JOSE-INSPER:4040\">Spark UI</a></p>\n",
       "\n",
       "            <dl>\n",
       "              <dt>Version</dt>\n",
       "                <dd><code>v3.0.1</code></dd>\n",
       "              <dt>Master</dt>\n",
       "                <dd><code>local[*]</code></dd>\n",
       "              <dt>AppName</dt>\n",
       "                <dd><code>jojo</code></dd>\n",
       "            </dl>\n",
       "        </div>\n",
       "        "
      ],
      "text/plain": [
       "<SparkContext master=local[*] appName=jojo>"
      ]
     },
     "execution_count": 3,
     "metadata": {},
     "output_type": "execute_result"
    }
   ],
   "source": [
    "sc"
   ]
  },
  {
   "cell_type": "code",
   "execution_count": 4,
   "metadata": {},
   "outputs": [],
   "source": [
    "rdd = sc.sequenceFile(\"part-00000\")"
   ]
  },
  {
   "cell_type": "code",
   "execution_count": 5,
   "metadata": {},
   "outputs": [
    {
     "data": {
      "text/plain": [
       "36133"
      ]
     },
     "execution_count": 5,
     "metadata": {},
     "output_type": "execute_result"
    }
   ],
   "source": [
    "rdd.count()"
   ]
  },
  {
   "cell_type": "code",
   "execution_count": 6,
   "metadata": {},
   "outputs": [],
   "source": [
    "result = rdd.take(10)"
   ]
  },
  {
   "cell_type": "code",
   "execution_count": 7,
   "metadata": {},
   "outputs": [],
   "source": [
    "def conta_palavras_doc(item):\n",
    "    url, conteudo = item\n",
    "    palavras = conteudo.strip().split()\n",
    "    return [(palavra, 1) for palavra in set(palavras)]\n",
    "\n",
    "def junta_contagens(nova_contagem, contagem_atual):\n",
    "    return nova_contagem + contagem_atual\n",
    "\n",
    "rdd_doc_freq = rdd.flatMap(conta_palavras_doc).reduceByKey(junta_contagens)"
   ]
  },
  {
   "cell_type": "code",
   "execution_count": 8,
   "metadata": {},
   "outputs": [],
   "source": [
    "def conta_uma_palavra(item, palavra):\n",
    "    url, conteudo = item\n",
    "    palavras = conteudo.strip().split()\n",
    "    #count = 0\n",
    "    lista = [palavra.lower() for palavra in palavras]\n",
    "    if palavra in lista:\n",
    "        return [item]\n",
    "    return []\n",
    "\n",
    "\n",
    "Rakin = rdd.filter(lambda x:\"rakin\" in x[1])\n",
    "Yoda = rdd.filter(lambda x:\"yoda\" in x[1])\n",
    "inter = Rakin.intersection(Yoda)\n",
    "\n",
    "rdd_Rakin = Rakin.flatMap(conta_uma_palavra).reduceByKey(junta_contagens)\n",
    "rdd_Yoda = Yoda.flatMap(conta_uma_palavra).reduceByKey(junta_contagens)\n",
    "rdd_inter = inter.flatMap(conta_uma_palavra).reduceByKey(junta_contagens)\n",
    "\n",
    "rdd_doc_rakin = Rakin.flatMap(conta_palavras_doc).reduceByKey(junta_contagens)\n",
    "rdd_doc_yoda = Yoda.flatMap(conta_palavras_doc).reduceByKey(junta_contagens)\n",
    "rdd_doc_inter = inter.flatMap(conta_palavras_doc).reduceByKey(junta_contagens)"
   ]
  },
  {
   "cell_type": "code",
   "execution_count": 9,
   "metadata": {},
   "outputs": [
    {
     "data": {
      "text/plain": [
       "11364"
      ]
     },
     "execution_count": 9,
     "metadata": {},
     "output_type": "execute_result"
    }
   ],
   "source": [
    "rdd_doc_rakin.count()"
   ]
  },
  {
   "cell_type": "code",
   "execution_count": 10,
   "metadata": {},
   "outputs": [
    {
     "data": {
      "text/plain": [
       "9151"
      ]
     },
     "execution_count": 10,
     "metadata": {},
     "output_type": "execute_result"
    }
   ],
   "source": [
    "rdd_doc_yoda.count()"
   ]
  },
  {
   "cell_type": "code",
   "execution_count": 11,
   "metadata": {},
   "outputs": [
    {
     "data": {
      "text/plain": [
       "0"
      ]
     },
     "execution_count": 11,
     "metadata": {},
     "output_type": "execute_result"
    }
   ],
   "source": [
    "rdd_doc_inter.count()"
   ]
  },
  {
   "cell_type": "code",
   "execution_count": 12,
   "metadata": {},
   "outputs": [],
   "source": [
    "#rdd_doc_freq.count() #Numero de documentos"
   ]
  },
  {
   "cell_type": "code",
   "execution_count": 13,
   "metadata": {},
   "outputs": [],
   "source": [
    "N = rdd.count()"
   ]
  },
  {
   "cell_type": "code",
   "execution_count": 14,
   "metadata": {},
   "outputs": [],
   "source": [
    "DOC_COUNT_MIN = 5\n",
    "DOC_COUNT_MAX = 0.7*N\n",
    "\n",
    "def filtra_doc_freq(item):\n",
    "    contagem = item[1]\n",
    "    return (contagem < DOC_COUNT_MAX) and (contagem >= DOC_COUNT_MIN)\n",
    "\n",
    "rdd_doc_rakin_freq_filtrado = rdd_doc_rakin.filter(filtra_doc_freq)\n",
    "rdd_doc_yoda_freq_filtrado = rdd_doc_yoda.filter(filtra_doc_freq)\n",
    "rdd_doc_inter_freq_filtrado = rdd_doc_inter.filter(filtra_doc_freq)"
   ]
  },
  {
   "cell_type": "code",
   "execution_count": 15,
   "metadata": {},
   "outputs": [],
   "source": [
    "#rdd_doc_rakin_freq_filtrado.count() #Documentos filtrado no range definido"
   ]
  },
  {
   "cell_type": "code",
   "execution_count": 16,
   "metadata": {},
   "outputs": [],
   "source": [
    "def computa_idf(item):\n",
    "    palavra,contagem = item\n",
    "    idf = math.log10(N/contagem)\n",
    "    return (palavra,idf)\n",
    "\n",
    "def computa_freq(item):\n",
    "    palavra,contagem = item\n",
    "    quant = math.log10(1+contagem)\n",
    "    return (palavra,quant)\n",
    "\n",
    "rakin_rdd_idf = rdd_doc_rakin_freq_filtrado.map(computa_idf)\n",
    "yoda_rdd_idf = rdd_doc_yoda_freq_filtrado.map(computa_idf)\n",
    "inter_rdd_idf = rdd_doc_inter_freq_filtrado.map(computa_idf)\n",
    "\n",
    "rakin_rdd_freq = rdd_doc_rakin_freq_filtrado.map(computa_freq)\n",
    "yoda_rdd_freq = rdd_doc_yoda_freq_filtrado.map(computa_freq)\n",
    "inter_rdd_freq = rdd_doc_inter_freq_filtrado.map(computa_freq)"
   ]
  },
  {
   "cell_type": "code",
   "execution_count": 17,
   "metadata": {},
   "outputs": [],
   "source": [
    "def relevancia(item):\n",
    "    palavra, quant = item\n",
    "    freq, idf = quant\n",
    "    relevancia = freq*idf\n",
    "    return (palavra, relevancia)"
   ]
  },
  {
   "cell_type": "code",
   "execution_count": 18,
   "metadata": {},
   "outputs": [],
   "source": [
    "result = rakin_rdd_idf.collect()"
   ]
  },
  {
   "cell_type": "code",
   "execution_count": 19,
   "metadata": {
    "scrolled": false
   },
   "outputs": [
    {
     "data": {
      "text/plain": [
       "[('The', 3.7797527706739227),\n",
       " ('Carros', 3.7797527706739227),\n",
       " ('Nemo', 3.7797527706739227),\n",
       " ('Chapeuzinho', 3.7797527706739227),\n",
       " ('Completos', 3.7797527706739227),\n",
       " ('Homem', 3.7797527706739227),\n",
       " ('Suporte', 3.7797527706739227),\n",
       " ('Caminhão', 3.7797527706739227),\n",
       " ('Casa', 3.7797527706739227),\n",
       " ('Garrafas', 3.7797527706739227),\n",
       " ('Imagem', 3.7797527706739227),\n",
       " ('(62)', 3.7797527706739227),\n",
       " ('Noite', 3.7797527706739227),\n",
       " ('Brinquedos', 3.7797527706739227),\n",
       " ('uso', 3.7797527706739227),\n",
       " ('/', 3.7797527706739227),\n",
       " ('this', 3.7797527706739227),\n",
       " ('Google', 3.7797527706739227),\n",
       " ('World', 3.7797527706739227),\n",
       " ('Personagens', 3.7797527706739227),\n",
       " ('Mickey', 3.7797527706739227),\n",
       " ('Pé', 3.7797527706739227),\n",
       " ('Início', 3.7797527706739227),\n",
       " ('Hello', 3.7797527706739227),\n",
       " ('Estrela', 3.7797527706739227),\n",
       " ('Carrinho', 3.7797527706739227),\n",
       " ('Lista', 3.7797527706739227),\n",
       " ('be', 3.7797527706739227),\n",
       " ('(17)', 3.7797527706739227),\n",
       " ('Coca', 3.7797527706739227),\n",
       " ('Bros', 3.7797527706739227),\n",
       " ('Página', 3.7797527706739227),\n",
       " ('Futebol', 3.7797527706739227),\n",
       " ('Disney', 3.7797527706739227),\n",
       " ('Toy', 3.7797527706739227),\n",
       " ('Bonecas', 3.7797527706739227),\n",
       " ('are', 3.7797527706739227),\n",
       " ('App', 3.7797527706739227),\n",
       " ('2014', 3.7797527706739227),\n",
       " ('Você', 3.7797527706739227),\n",
       " ('Meninos', 3.7797527706739227),\n",
       " ('Rei', 3.7797527706739227),\n",
       " ('protected]', 3.7797527706739227),\n",
       " ('[email', 3.7797527706739227),\n",
       " ('Olhos', 3.7797527706739227),\n",
       " ('2020', 3.7797527706739227),\n",
       " ('X', 3.7797527706739227),\n",
       " ('7', 3.7797527706739227),\n",
       " ('seus', 3.7797527706739227),\n",
       " ('–', 3.7797527706739227),\n",
       " ('Branca', 3.7797527706739227),\n",
       " ('Aurora', 3.7797527706739227),\n",
       " ('Bob', 3.7797527706739227),\n",
       " ('Monstros', 3.7797527706739227),\n",
       " ('(13)', 3.7797527706739227),\n",
       " ('Set', 3.7797527706739227),\n",
       " ('Nossa', 3.7797527706739227),\n",
       " ('(33)', 3.7797527706739227),\n",
       " ('para:', 3.7797527706739227),\n",
       " ('Pooh', 3.7797527706739227),\n",
       " ('Moranguinho', 3.7797527706739227),\n",
       " ('Nova', 3.7797527706739227),\n",
       " ('post', 3.7797527706739227),\n",
       " ('1)', 3.7797527706739227),\n",
       " ('Kits', 3.7797527706739227),\n",
       " ('Robin', 3.7797527706739227),\n",
       " ('Dragão', 3.7797527706739227),\n",
       " ('Pokémon', 3.7797527706739227),\n",
       " ('Brave', 3.7797527706739227),\n",
       " ('Story', 3.7797527706739227),\n",
       " ('agora', 3.7797527706739227),\n",
       " ('Termos', 3.7797527706739227),\n",
       " ('(15)', 3.7797527706739227),\n",
       " ('como', 3.7797527706739227),\n",
       " ('Frozen', 3.7797527706739227),\n",
       " ('Montar', 3.7797527706739227),\n",
       " ('Ninho', 3.7797527706739227),\n",
       " ('Animais', 3.7797527706739227),\n",
       " ('Meninas', 3.7797527706739227),\n",
       " ('Dragon', 3.7797527706739227),\n",
       " ('Desenhos', 3.7797527706739227),\n",
       " ('sobre', 3.7797527706739227),\n",
       " ('Neve', 3.7797527706739227),\n",
       " ('Your', 3.7797527706739227),\n",
       " ('E', 3.7797527706739227),\n",
       " ('Dia', 3.7797527706739227),\n",
       " ('Fale', 3.7797527706739227),\n",
       " ('Donald', 3.7797527706739227),\n",
       " ('Amarelo', 3.7797527706739227),\n",
       " ('(32)', 3.7797527706739227),\n",
       " ('Harry', 3.7797527706739227),\n",
       " ('Leão', 3.7797527706739227),\n",
       " ('aos', 3.7797527706739227),\n",
       " ('Tintas', 3.7797527706739227),\n",
       " ('Turma', 3.7797527706739227),\n",
       " ('Potter', 3.7797527706739227),\n",
       " ('Cinderela', 3.7797527706739227),\n",
       " ('is', 3.8589340167215473),\n",
       " ('Reply', 3.8589340167215473),\n",
       " ('mesmo', 3.8589340167215473),\n",
       " ('Bolos', 3.8589340167215473),\n",
       " ('Aventura', 3.8589340167215473),\n",
       " ('(21)', 3.8589340167215473),\n",
       " ('Bom', 3.8589340167215473),\n",
       " ('*', 3.8589340167215473),\n",
       " ('Selecionar', 3.8589340167215473),\n",
       " ('Azul', 3.8589340167215473),\n",
       " ('(45)', 3.8589340167215473),\n",
       " ('Laranja', 3.8589340167215473),\n",
       " ('Doces', 3.8589340167215473),\n",
       " ('Cozinha', 3.8589340167215473),\n",
       " ('Mãe', 3.8589340167215473),\n",
       " ('Patati', 3.8589340167215473),\n",
       " ('Bebês', 3.8589340167215473),\n",
       " ('Balas', 3.8589340167215473),\n",
       " ('Painel', 3.8589340167215473),\n",
       " ('Twitter', 3.8589340167215473),\n",
       " ('à', 3.8589340167215473),\n",
       " ('After', 3.8589340167215473),\n",
       " ('Cancel', 3.8589340167215473),\n",
       " ('Check', 3.8589340167215473),\n",
       " ('Ever', 3.8589340167215473),\n",
       " ('&', 3.8589340167215473),\n",
       " ('Karen', 3.8589340167215473),\n",
       " ('by', 3.8589340167215473),\n",
       " ('suas', 3.8589340167215473),\n",
       " ('ser', 3.8589340167215473),\n",
       " ('endereço', 3.8589340167215473),\n",
       " ('Ouro', 3.8589340167215473),\n",
       " ('Saia', 3.8589340167215473),\n",
       " ('Branco', 3.8589340167215473),\n",
       " ('(37)', 3.8589340167215473),\n",
       " ('Espumante', 3.8589340167215473),\n",
       " ('Vintage', 3.8589340167215473),\n",
       " ('Abóbora', 3.8589340167215473),\n",
       " ('novas', 3.8589340167215473),\n",
       " ('SOBRE', 3.8589340167215473),\n",
       " ('Jogos', 3.8589340167215473),\n",
       " ('Política', 3.8589340167215473),\n",
       " ('2015', 3.8589340167215473),\n",
       " ('Gun', 3.8589340167215473),\n",
       " ('2017', 3.8589340167215473),\n",
       " ('field', 3.8589340167215473),\n",
       " ('View', 3.8589340167215473),\n",
       " ('(47)', 3.8589340167215473),\n",
       " ('Peixes', 3.8589340167215473),\n",
       " ('Faça', 3.8589340167215473),\n",
       " ('(43)', 3.8589340167215473),\n",
       " ('Índice', 3.8589340167215473),\n",
       " ('Salvar', 3.8589340167215473),\n",
       " ('Black', 3.8589340167215473),\n",
       " ('Minha', 3.8589340167215473),\n",
       " ('Leite', 3.8589340167215473),\n",
       " ('Times', 3.8589340167215473),\n",
       " ('not', 3.8589340167215473),\n",
       " ('Party', 3.8589340167215473),\n",
       " ('or', 3.8589340167215473),\n",
       " ('In', 3.8589340167215473),\n",
       " ('dia', 3.8589340167215473),\n",
       " ('melhores', 3.8589340167215473),\n",
       " ('Conosco', 3.8589340167215473),\n",
       " ('Amendoim', 3.8589340167215473),\n",
       " ('Aplicativos', 3.8589340167215473),\n",
       " ('Creme', 3.8589340167215473),\n",
       " ('Sereia', 3.8589340167215473),\n",
       " ('(27)', 3.8589340167215473),\n",
       " ('Água', 3.8589340167215473),\n",
       " ('Patatá', 3.8589340167215473),\n",
       " ('Hat', 3.8589340167215473),\n",
       " ('Ovo', 3.8589340167215473),\n",
       " ('fields', 3.8589340167215473),\n",
       " ('|', 3.8589340167215473),\n",
       " ('Absorvente', 3.8589340167215473),\n",
       " ('Bolsa', 3.8589340167215473),\n",
       " ('Verão', 3.8589340167215473),\n",
       " ('Limão', 3.8589340167215473),\n",
       " ('...', 3.8589340167215473),\n",
       " ('Sabão', 3.8589340167215473),\n",
       " ('Histórias', 3.8589340167215473),\n",
       " ('Lenços', 3.8589340167215473),\n",
       " ('Escolha', 3.8589340167215473),\n",
       " ('(29)', 3.8589340167215473),\n",
       " ('Veja', 3.8589340167215473),\n",
       " ('Pascal', 3.8589340167215473),\n",
       " ('reply', 3.8589340167215473),\n",
       " ('Website', 3.8589340167215473),\n",
       " ('conteúdo', 3.8589340167215473),\n",
       " ('não', 3.8589340167215473),\n",
       " ('Name', 3.8589340167215473),\n",
       " ('Avise-me', 3.8589340167215473),\n",
       " ('Céu', 3.8589340167215473),\n",
       " ('Frases', 3.8589340167215473),\n",
       " ('Canal', 3.8589340167215473),\n",
       " ('Programa', 3.8589340167215473),\n",
       " ('Pais', 3.8589340167215473),\n",
       " ('High', 3.8589340167215473),\n",
       " ('Melhor', 3.8589340167215473),\n",
       " ('Incríveis', 3.8589340167215473),\n",
       " ('esta', 3.8589340167215473),\n",
       " ('Pinterest', 3.8589340167215473),\n",
       " ('Centro', 3.8589340167215473),\n",
       " ('Templates', 3.8589340167215473),\n",
       " ('Não', 3.8589340167215473),\n",
       " ('(20)', 3.8589340167215473),\n",
       " ('Agua', 3.8589340167215473),\n",
       " ('Lojas', 3.8589340167215473),\n",
       " ('Passatempo', 3.8589340167215473),\n",
       " ('Natal', 3.8589340167215473),\n",
       " ('Melhores', 3.8589340167215473),\n",
       " ('Ir', 3.8589340167215473),\n",
       " ('Brasil', 3.8589340167215473),\n",
       " ('comment', 3.8589340167215473),\n",
       " ('35', 3.8589340167215473),\n",
       " ('will', 3.8589340167215473),\n",
       " ('address', 3.8589340167215473),\n",
       " ('sem', 3.8589340167215473),\n",
       " ('Pano', 3.8589340167215473),\n",
       " ('Banheiro', 3.8589340167215473),\n",
       " ('(24)', 3.8589340167215473),\n",
       " ('Jardim', 3.8589340167215473),\n",
       " ('Sal', 3.8589340167215473),\n",
       " ('por:', 3.8589340167215473),\n",
       " ('Privacidade', 3.8589340167215473),\n",
       " ('List', 3.8589340167215473),\n",
       " ('Digital', 3.8589340167215473),\n",
       " ('Champagne', 3.8589340167215473),\n",
       " ('Pirata', 3.8589340167215473),\n",
       " ('Trakinas', 3.8589340167215473),\n",
       " ('Caixa', 3.8589340167215473),\n",
       " ('(19)', 3.8589340167215473),\n",
       " ('Chocolate', 3.8589340167215473),\n",
       " ('Convite', 3.8589340167215473),\n",
       " ('Prontos', 3.8589340167215473),\n",
       " ('Luvas', 3.8589340167215473),\n",
       " ('Rodas', 3.8589340167215473),\n",
       " ('picture', 3.8589340167215473),\n",
       " ('Results', 3.8589340167215473),\n",
       " ('nos', 3.8589340167215473),\n",
       " ('categoria', 3.8589340167215473),\n",
       " ('Quanto', 3.8589340167215473),\n",
       " ('ver', 3.8589340167215473),\n",
       " ('minha', 3.8589340167215473),\n",
       " ('Novo', 3.8589340167215473),\n",
       " ('Zero', 3.8589340167215473),\n",
       " ('leite', 3.8589340167215473),\n",
       " ('Beleza', 3.8589340167215473),\n",
       " ('Já', 3.8589340167215473),\n",
       " ('Páginas', 3.8589340167215473),\n",
       " ('(25)', 3.8589340167215473),\n",
       " ('Unha', 3.8589340167215473),\n",
       " ('(46)', 3.8589340167215473),\n",
       " ('quer', 3.8589340167215473),\n",
       " ('Salgados', 3.8589340167215473),\n",
       " ('Verde', 3.8589340167215473),\n",
       " ('Papel', 3.8589340167215473),\n",
       " ('Temas', 3.8589340167215473),\n",
       " ('Guloseimas', 3.8589340167215473),\n",
       " ('Letras', 3.8589340167215473),\n",
       " ('isso:', 3.8589340167215473)]"
      ]
     },
     "execution_count": 19,
     "metadata": {},
     "output_type": "execute_result"
    }
   ],
   "source": [
    "sorted(result, key=lambda x: x[1])[100:]"
   ]
  },
  {
   "cell_type": "code",
   "execution_count": 20,
   "metadata": {},
   "outputs": [],
   "source": [
    "rdd_inter_join = inter_rdd_freq.join(inter_rdd_idf)\n",
    "relevancia_inter = rdd_inter_join.map(relevancia)"
   ]
  },
  {
   "cell_type": "code",
   "execution_count": 21,
   "metadata": {},
   "outputs": [],
   "source": [
    "result = relevancia_inter.collect()"
   ]
  },
  {
   "cell_type": "code",
   "execution_count": 22,
   "metadata": {
    "scrolled": false
   },
   "outputs": [
    {
     "data": {
      "text/plain": [
       "[]"
      ]
     },
     "execution_count": 22,
     "metadata": {},
     "output_type": "execute_result"
    }
   ],
   "source": [
    "sorted(result, key=lambda x: x[1])[100:]"
   ]
  },
  {
   "cell_type": "code",
   "execution_count": null,
   "metadata": {},
   "outputs": [],
   "source": []
  }
 ],
 "metadata": {
  "kernelspec": {
   "display_name": "Python 3",
   "language": "python",
   "name": "python3"
  },
  "language_info": {
   "codemirror_mode": {
    "name": "ipython",
    "version": 3
   },
   "file_extension": ".py",
   "mimetype": "text/x-python",
   "name": "python",
   "nbconvert_exporter": "python",
   "pygments_lexer": "ipython3",
   "version": "3.8.3"
  }
 },
 "nbformat": 4,
 "nbformat_minor": 4
}
