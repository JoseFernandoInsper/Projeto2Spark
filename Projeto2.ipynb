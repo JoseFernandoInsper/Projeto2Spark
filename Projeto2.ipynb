{
 "cells": [
  {
   "cell_type": "code",
   "execution_count": 1,
   "metadata": {},
   "outputs": [],
   "source": [
    "import pyspark\n",
    "import math"
   ]
  },
  {
   "cell_type": "code",
   "execution_count": 2,
   "metadata": {},
   "outputs": [],
   "source": [
    "sc = pyspark.SparkContext(appName=\"jojo\")"
   ]
  },
  {
   "cell_type": "code",
   "execution_count": 3,
   "metadata": {},
   "outputs": [
    {
     "data": {
      "text/html": [
       "\n",
       "        <div>\n",
       "            <p><b>SparkContext</b></p>\n",
       "\n",
       "            <p><a href=\"http://192.168.15.18:4040\">Spark UI</a></p>\n",
       "\n",
       "            <dl>\n",
       "              <dt>Version</dt>\n",
       "                <dd><code>v3.0.1</code></dd>\n",
       "              <dt>Master</dt>\n",
       "                <dd><code>local[*]</code></dd>\n",
       "              <dt>AppName</dt>\n",
       "                <dd><code>jojo</code></dd>\n",
       "            </dl>\n",
       "        </div>\n",
       "        "
      ],
      "text/plain": [
       "<SparkContext master=local[*] appName=jojo>"
      ]
     },
     "execution_count": 3,
     "metadata": {},
     "output_type": "execute_result"
    }
   ],
   "source": [
    "sc"
   ]
  },
  {
   "cell_type": "code",
   "execution_count": 4,
   "metadata": {},
   "outputs": [],
   "source": [
    "rdd = sc.sequenceFile(\"part-00000\")"
   ]
  },
  {
   "cell_type": "code",
   "execution_count": 5,
   "metadata": {},
   "outputs": [
    {
     "data": {
      "text/plain": [
       "36133"
      ]
     },
     "execution_count": 5,
     "metadata": {},
     "output_type": "execute_result"
    }
   ],
   "source": [
    "rdd.count()"
   ]
  },
  {
   "cell_type": "code",
   "execution_count": 6,
   "metadata": {},
   "outputs": [],
   "source": [
    "result = rdd.take(10)"
   ]
  },
  {
   "cell_type": "code",
   "execution_count": 7,
   "metadata": {},
   "outputs": [],
   "source": [
    "def conta_palavras(item):\n",
    "    url, conteudo = item\n",
    "    palavras = conteudo.strip().split()\n",
    "    return [(palavra, 1) for palavra in set(palavras)]\n",
    "\n",
    "def junta_contagens(nova_contagem, contagem_atual):\n",
    "    return nova_contagem + contagem_atual\n",
    "\n",
    "rdd_doc_freq = rdd.flatMap(conta_palavras).reduceByKey(junta_contagens)"
   ]
  },
  {
   "cell_type": "code",
   "execution_count": 8,
   "metadata": {},
   "outputs": [
    {
     "data": {
      "text/plain": [
       "36133"
      ]
     },
     "execution_count": 8,
     "metadata": {},
     "output_type": "execute_result"
    }
   ],
   "source": [
    "rdd.count()"
   ]
  },
  {
   "cell_type": "code",
   "execution_count": 9,
   "metadata": {},
   "outputs": [
    {
     "data": {
      "text/plain": [
       "1656657"
      ]
     },
     "execution_count": 9,
     "metadata": {},
     "output_type": "execute_result"
    }
   ],
   "source": [
    "rdd_doc_freq.count() #Numero de documentos"
   ]
  },
  {
   "cell_type": "code",
   "execution_count": 13,
   "metadata": {},
   "outputs": [],
   "source": [
    "N = rdd.count()"
   ]
  },
  {
   "cell_type": "code",
   "execution_count": 16,
   "metadata": {},
   "outputs": [],
   "source": [
    "DOC_COUNT_MIN = 5\n",
    "DOC_COUNT_MAX = 0.7*N\n",
    "\n",
    "def filtra_doc_freq(item):\n",
    "    contagem = item[1]\n",
    "    return (contagem < DOC_COUNT_MAX) and (contagem >= DOC_COUNT_MIN)\n",
    "\n",
    "rdd_doc_freq_filtrado = rdd_doc_freq.filter(filtra_doc_freq)"
   ]
  },
  {
   "cell_type": "code",
   "execution_count": 17,
   "metadata": {},
   "outputs": [
    {
     "data": {
      "text/plain": [
       "256108"
      ]
     },
     "execution_count": 17,
     "metadata": {},
     "output_type": "execute_result"
    }
   ],
   "source": [
    "rdd_doc_freq_filtrado.count() #Documentos filtrado no range definido"
   ]
  },
  {
   "cell_type": "code",
   "execution_count": 19,
   "metadata": {},
   "outputs": [],
   "source": [
    "def computa_idf(item):\n",
    "    palavra,contagem = item\n",
    "    idf = math.log10(N/contagem)\n",
    "    return (palavra,idf)\n",
    "\n",
    "rdd_idf = rdd_doc_freq_filtrado.map(computa_idf)"
   ]
  },
  {
   "cell_type": "code",
   "execution_count": 20,
   "metadata": {},
   "outputs": [],
   "source": [
    "result = rdd_idf.collect()"
   ]
  },
  {
   "cell_type": "code",
   "execution_count": 22,
   "metadata": {},
   "outputs": [
    {
     "data": {
      "text/plain": [
       "[('Didonet', 3.8589340167215473),\n",
       " ('Aleksandre', 3.8589340167215473),\n",
       " ('Gazeta.RU', 3.8589340167215473),\n",
       " ('Nafeez', 3.8589340167215473),\n",
       " ('Pochman', 3.8589340167215473),\n",
       " ('Cardoso*', 3.8589340167215473),\n",
       " ('Mosaddeq', 3.8589340167215473),\n",
       " ('Abid', 3.8589340167215473),\n",
       " ('Ｐ', 3.8589340167215473),\n",
       " ('Seguinte:', 3.8589340167215473),\n",
       " ('Canato', 3.8589340167215473),\n",
       " ('GMs', 3.8589340167215473),\n",
       " ('Colchagua', 3.8589340167215473),\n",
       " ('R$31,30', 3.8589340167215473),\n",
       " ('Ferrorama', 3.8589340167215473),\n",
       " ('Koukou', 3.8589340167215473),\n",
       " ('amornar', 3.8589340167215473),\n",
       " ('compare_at_price', 3.8589340167215473),\n",
       " ('rendo', 3.8589340167215473),\n",
       " ('horse', 3.8589340167215473),\n",
       " ('Harness', 3.8589340167215473),\n",
       " ('Datacard', 3.8589340167215473),\n",
       " (\"'Há\", 3.8589340167215473),\n",
       " ('diminuindo.', 3.8589340167215473),\n",
       " ('atp', 3.8589340167215473),\n",
       " ('</tr>', 3.8589340167215473),\n",
       " ('Suburgatory', 3.8589340167215473),\n",
       " ('Decidiu', 3.8589340167215473),\n",
       " ('represálias', 3.8589340167215473),\n",
       " ('Tay', 3.8589340167215473),\n",
       " ('Tunnel', 3.8589340167215473),\n",
       " ('Ghetto', 3.8589340167215473),\n",
       " ('Jetstream', 3.8589340167215473),\n",
       " ('condom', 3.8589340167215473),\n",
       " ('entregar-se', 3.8589340167215473),\n",
       " ('Exame:', 3.8589340167215473),\n",
       " ('Filiações', 3.8589340167215473),\n",
       " ('gravura,', 3.8589340167215473),\n",
       " ('-SC', 3.8589340167215473),\n",
       " ('Coelhinhos', 3.8589340167215473),\n",
       " ('catch(e){', 3.8589340167215473),\n",
       " ('Cabíria', 3.8589340167215473),\n",
       " ('1.620,00', 3.8589340167215473),\n",
       " ('Hofmann', 3.8589340167215473),\n",
       " ('learn,', 3.8589340167215473),\n",
       " ('arremessado', 3.8589340167215473),\n",
       " ('VisitarMancheteObituárioReportagem', 3.8589340167215473),\n",
       " ('JGB', 3.8589340167215473),\n",
       " ('(JGB),', 3.8589340167215473),\n",
       " ('Pityocampa', 3.8589340167215473),\n",
       " ('achando.', 3.8589340167215473),\n",
       " ('Cinemax', 3.8589340167215473),\n",
       " ('Guiabolso', 3.8589340167215473),\n",
       " ('gibi.', 3.8589340167215473),\n",
       " ('Anápolis/GO', 3.8589340167215473),\n",
       " ('Sincronizar', 3.8589340167215473),\n",
       " ('condução.', 3.8589340167215473),\n",
       " ('Tallahassee', 3.8589340167215473),\n",
       " ('58mm', 3.8589340167215473),\n",
       " ('ipiranga', 3.8589340167215473),\n",
       " ('TERESÓPOLIS', 3.8589340167215473),\n",
       " ('64,27', 3.8589340167215473),\n",
       " ('64,589FansLike', 3.8589340167215473),\n",
       " ('pecha', 3.8589340167215473),\n",
       " ('Cinta-Liga', 3.8589340167215473),\n",
       " ('Italy,', 3.8589340167215473),\n",
       " ('BLINDADO', 3.8589340167215473),\n",
       " ('8610', 3.8589340167215473),\n",
       " ('Casando', 3.8589340167215473),\n",
       " ('Paranagua', 3.8589340167215473),\n",
       " ('especula-se', 3.8589340167215473),\n",
       " ('ukrain', 3.8589340167215473),\n",
       " ('Destilaria', 3.8589340167215473),\n",
       " ('Tesoureiro:', 3.8589340167215473),\n",
       " (\"Life's\", 3.8589340167215473),\n",
       " ('Michelon', 3.8589340167215473),\n",
       " ('avaliação{{/0stars}}', 3.8589340167215473),\n",
       " ('{{#isPercycle}}', 3.8589340167215473),\n",
       " ('HCB', 3.8589340167215473),\n",
       " ('Maletinha', 3.8589340167215473),\n",
       " ('Presentinho', 3.8589340167215473),\n",
       " ('exótica.', 3.8589340167215473),\n",
       " ('werent', 3.8589340167215473),\n",
       " ('IBITINGA', 3.8589340167215473),\n",
       " ('salivares', 3.8589340167215473),\n",
       " ('Show...', 3.8589340167215473),\n",
       " ('Países/Other', 3.8589340167215473),\n",
       " ('‘Bud', 3.8589340167215473),\n",
       " ('cariocas,...', 3.8589340167215473),\n",
       " ('E-completo', 3.8589340167215473),\n",
       " ('mockup', 3.8589340167215473),\n",
       " ('Grindelwald', 3.8589340167215473),\n",
       " ('neuropática', 3.8589340167215473),\n",
       " ('MP-GO', 3.8589340167215473),\n",
       " ('BoJack', 3.8589340167215473),\n",
       " ('Sneaky', 3.8589340167215473),\n",
       " ('Black-ish', 3.8589340167215473),\n",
       " ('Nightflyers', 3.8589340167215473),\n",
       " ('SG-1', 3.8589340167215473),\n",
       " ('Covert', 3.8589340167215473)]"
      ]
     },
     "execution_count": 22,
     "metadata": {},
     "output_type": "execute_result"
    }
   ],
   "source": [
    "sorted(result, key=lambda x: x[1])[-100:]"
   ]
  },
  {
   "cell_type": "code",
   "execution_count": null,
   "metadata": {},
   "outputs": [],
   "source": []
  }
 ],
 "metadata": {
  "kernelspec": {
   "display_name": "Python 3",
   "language": "python",
   "name": "python3"
  },
  "language_info": {
   "codemirror_mode": {
    "name": "ipython",
    "version": 3
   },
   "file_extension": ".py",
   "mimetype": "text/x-python",
   "name": "python",
   "nbconvert_exporter": "python",
   "pygments_lexer": "ipython3",
   "version": "3.8.5"
  }
 },
 "nbformat": 4,
 "nbformat_minor": 4
}
